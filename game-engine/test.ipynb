{
 "cells": [
  {
   "cell_type": "code",
   "execution_count": 1,
   "id": "c39183a6",
   "metadata": {},
   "outputs": [],
   "source": [
    "%load_ext autoreload\n",
    "%autoreload 2"
   ]
  },
  {
   "cell_type": "code",
   "execution_count": 2,
   "id": "22d9b728",
   "metadata": {},
   "outputs": [],
   "source": [
    "from Game import Game, MoveType, AdjMatrixType"
   ]
  },
  {
   "cell_type": "code",
   "execution_count": 3,
   "id": "62f8a1b6",
   "metadata": {},
   "outputs": [],
   "source": [
    "g = Game(walls=24)"
   ]
  },
  {
   "cell_type": "code",
   "execution_count": 4,
   "id": "c9af36dd",
   "metadata": {},
   "outputs": [
    {
     "name": "stdout",
     "output_type": "stream",
     "text": [
      "Player 0 still has to collect nodes: [np.int8(12), np.int8(33), np.int8(7), np.int8(22), np.int8(28)]\n",
      "Player 1 still has to collect nodes: [np.int8(10), np.int8(2), np.int8(14), np.int8(19), np.int8(15)]\n",
      "Player 0's turn. Die roll: 1\n",
      "\u001b[31m●\u001b[0m───●   ●   ●───●───●\n",
      "    │   │       │    \n",
      "●───●───●───●   ●───●\n",
      "│       │       │   │\n",
      "●───●   ●   ●   ●───●\n",
      "│           │       │\n",
      "●───●───●───●───●───●\n",
      "│                   │\n",
      "●   ●───●   ●   ●───●\n",
      "        │   │       │\n",
      "●───●───●───●───●───\u001b[34m●\u001b[0m\n",
      "\n"
     ]
    }
   ],
   "source": [
    "g.visualize_adj_matrix(AdjMatrixType.HIDDEN)"
   ]
  },
  {
   "cell_type": "code",
   "execution_count": 5,
   "id": "c57cc483",
   "metadata": {},
   "outputs": [],
   "source": [
    "g.make_move(0, MoveType.RIGHT)"
   ]
  },
  {
   "cell_type": "code",
   "execution_count": 6,
   "id": "c16bd0ae",
   "metadata": {},
   "outputs": [
    {
     "name": "stdout",
     "output_type": "stream",
     "text": [
      "Player 0 still has to collect nodes: [np.int8(12), np.int8(33), np.int8(7), np.int8(22), np.int8(28)]\n",
      "Player 1 still has to collect nodes: [np.int8(10), np.int8(2), np.int8(14), np.int8(19), np.int8(15)]\n",
      "Player 1's turn. Die roll: 1\n",
      "●───\u001b[31m●\u001b[0m───●───●───●───●\n",
      "│   │   │   │   │   │\n",
      "●───●───●───●───●───●\n",
      "│   │   │   │   │   │\n",
      "●───●───●───●───●───●\n",
      "│   │   │   │   │   │\n",
      "●───●───●───●───●───●\n",
      "│   │   │   │   │   │\n",
      "●───●───●───●───●───●\n",
      "│   │   │   │   │   │\n",
      "●───●───●───●───●───\u001b[34m●\u001b[0m\n",
      "\n"
     ]
    }
   ],
   "source": [
    "g.visualize_adj_matrix(AdjMatrixType.VISIBLE)"
   ]
  },
  {
   "cell_type": "code",
   "execution_count": 7,
   "id": "4ff696e9",
   "metadata": {},
   "outputs": [],
   "source": [
    "g.make_move(1, MoveType.UP)"
   ]
  },
  {
   "cell_type": "code",
   "execution_count": 8,
   "id": "4d96f267",
   "metadata": {},
   "outputs": [
    {
     "name": "stdout",
     "output_type": "stream",
     "text": [
      "Player 0 still has to collect nodes: [np.int8(12), np.int8(33), np.int8(7), np.int8(22), np.int8(28)]\n",
      "Player 1 still has to collect nodes: [np.int8(10), np.int8(2), np.int8(14), np.int8(19), np.int8(15)]\n",
      "Player 0's turn. Die roll: 1\n",
      "●───\u001b[31m●\u001b[0m───●───●───●───●\n",
      "│   │   │   │   │   │\n",
      "●───●───●───●───●───●\n",
      "│   │   │   │   │   │\n",
      "●───●───●───●───●───●\n",
      "│   │   │   │   │   │\n",
      "●───●───●───●───●───●\n",
      "│   │   │   │   │   │\n",
      "●───●───●───●───●───\u001b[34m●\u001b[0m\n",
      "│   │   │   │   │   │\n",
      "●───●───●───●───●───●\n",
      "\n"
     ]
    }
   ],
   "source": [
    "g.visualize_adj_matrix(AdjMatrixType.VISIBLE)"
   ]
  },
  {
   "cell_type": "code",
   "execution_count": 9,
   "id": "d94ba98a",
   "metadata": {},
   "outputs": [
    {
     "name": "stdout",
     "output_type": "stream",
     "text": [
      "Player 0 collected a token at node 7!\n"
     ]
    }
   ],
   "source": [
    "g.make_move(0, MoveType.DOWN)"
   ]
  },
  {
   "cell_type": "code",
   "execution_count": null,
   "id": "69f71d37",
   "metadata": {},
   "outputs": [],
   "source": []
  }
 ],
 "metadata": {
  "kernelspec": {
   "display_name": "game-engine",
   "language": "python",
   "name": "python3"
  },
  "language_info": {
   "codemirror_mode": {
    "name": "ipython",
    "version": 3
   },
   "file_extension": ".py",
   "mimetype": "text/x-python",
   "name": "python",
   "nbconvert_exporter": "python",
   "pygments_lexer": "ipython3",
   "version": "3.12.4"
  }
 },
 "nbformat": 4,
 "nbformat_minor": 5
}
